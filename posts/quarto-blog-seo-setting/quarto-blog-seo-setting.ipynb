{
  "cells": [
    {
      "cell_type": "raw",
      "metadata": {},
      "source": [
        "---\n",
        "title: \"Quarto 블로그 SEO 최적화\"\n",
        "description: \"Quarto로 만드는 블로그 구글 검색 상위 노출을 위한 SEO 최적화 3가지 꿀팁\"\n",
        "date: today\n",
        "categories: [featured, Quarto, R, SEO]\n",
        "image: dbplyr_thumbnail.png\n",
        "draft: true \n",
        "---"
      ],
      "id": "c9c191ec"
    },
    {
      "cell_type": "markdown",
      "metadata": {},
      "source": [
        "## 1. 사이트맵 추가 \n",
        "\n",
        "구글 검색 시스템에서 내가 작성한 블로그 글이 누락되지 않도록 하려면 `구글 서치 콘솔`에서 사이트맵을 추가해야 합니다. Quarto 블로그는 자동으로 사이트맵을 생성해주지 않기 때문에, yaml에 사이트맵을 추가하는 옵션을 넣어 주어야 합니다. \n",
        "\n",
        "수정해야 하는 파일은 `_quarto.yml`입니다. \n",
        "\n",
        "이 블로그 사이트의 경우, `_quarto.yml` 파일이 다음과 같이 구성되어 있습니다. 이 아래 더 많은 옵션이 있지만 여기서는 사이트맵을 추가할 때 필요한 내용만 발췌해서 보여 드립니다.  \n",
        "\n",
        "\n",
        "```{yaml}\n",
        "#| eval: false \n",
        "project:\n",
        "  type: website\n",
        "\n",
        "website:\n",
        "  title: \"Mindful Analytics\"\n",
        "```\n",
        "\n",
        "\n",
        "이 파일에 `sitemap` 옵션을 추가해 주면 됩니다.  \n",
        "* website 옵션 아래 site-url: \"내 웹사이트 주소\"를 추가합니다.  \n",
        "* site-path: \"/\"는 사이트맵이 생성될 경로를 의미합니다.  \n",
        "\n",
        "아래 옵션으로 추가되는 파일은 `_site` 폴더 안에 `sitemap.xml` 파일입니다. 해당 xml 파일은 site-path에서 지정한 것 처럼 https://seheeopark.rbind.io/sitemap.xml 에 위치하게 됩니다. \n",
        "\n",
        "\n",
        "```{yaml}\n",
        "#| eval: false \n",
        "project:\n",
        "  type: website\n",
        "\n",
        "website:\n",
        "  title: \"Mindful Analytics\"\n",
        "  site-url: \"https://seheeopark.rbind.io\"  # <1>\n",
        "  site-path: \"/\"  # <2>\n",
        "```\n",
        "\n",
        "1. 사이트 주소를 입력합니다.\n",
        "2. 사이트맵이 생성될 경로를 지정합니다.\n"
      ],
      "id": "25b65d20"
    }
  ],
  "metadata": {
    "kernelspec": {
      "display_name": "Python 3",
      "language": "python",
      "name": "python3"
    }
  },
  "nbformat": 4,
  "nbformat_minor": 5
}